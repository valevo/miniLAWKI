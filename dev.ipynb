{
 "cells": [
  {
   "cell_type": "code",
   "execution_count": null,
   "id": "614c3d09-4d41-4be1-834a-07edb7397fd2",
   "metadata": {},
   "outputs": [],
   "source": [
    "from datetime import datetime\n",
    "import os\n",
    "import pandas as pd\n",
    "\n",
    "\n",
    "today = datetime.today()#.strftime(\"%d-%m-%Y\")\n",
    "# cur_dir = f\"outputs/{today}\"\n",
    "# os.makedirs(cur_dir)\n",
    "\n",
    "\n",
    "today.strftime(\"%Y-%m-%dT%H:%M\")"
   ]
  },
  {
   "cell_type": "code",
   "execution_count": null,
   "id": "387c97df-0c48-401b-a70e-1bbd34d0d846",
   "metadata": {},
   "outputs": [],
   "source": [
    "from utils import get_links\n",
    "\n",
    "df = pd.read_csv(\"./outputs/2025-03-04T18:07/df_terms.csv\")\n",
    "\n",
    "df = df.set_index([\"language\", \"term\", \"platform\"]).sort_index()\n"
   ]
  },
  {
   "cell_type": "code",
   "execution_count": null,
   "id": "8e6e5680-cf7a-4327-b545-1007a16d5dd6",
   "metadata": {},
   "outputs": [],
   "source": [
    "from tqdm import tqdm\n",
    "from selenium import webdriver\n",
    "\n",
    "import os\n",
    "os.environ['MOZ_HEADLESS'] = '1'\n",
    "num_links = 2\n",
    "\n",
    "\n",
    "with webdriver.Firefox() as driver:\n",
    "    for i, (cur_lang, cur_term, cur_platform) in enumerate(tqdm(df.index.drop_duplicates())):\n",
    "        # cur_sub = df.loc[(cur_lang, cur_term, cur_platform)]\n",
    "        # links_scraped = df.loc[(cur_lang, cur_term, cur_platform), \"link\"].str.len() > 1\n",
    "        # print(links_scraped.sum())\n",
    "        # if links_scraped.all():\n",
    "        #     print(f\"row {i} done, skipping\", flush=True, end=\"...\\n\")\n",
    "        #     continue \n",
    "    \n",
    "        links = get_links(driver=driver, platform=cur_platform, term=cur_term, n=5)\n",
    "        links = [l[:11] for l in links]\n",
    "\n",
    "        links = links + [None]*num_links\n",
    "        df.loc[(cur_lang, cur_term, cur_platform), \"link\"] = links[:num_links]\n",
    "        df.loc[(cur_lang, cur_term, cur_platform), \"done\"] = True\n"
   ]
  },
  {
   "cell_type": "markdown",
   "id": "fde01670-55d1-481d-9a8d-16750b3994e6",
   "metadata": {},
   "source": [
    "---"
   ]
  },
  {
   "cell_type": "code",
   "execution_count": null,
   "id": "d7c3b658-11d1-403a-ba28-ba9d4c17d13c",
   "metadata": {},
   "outputs": [],
   "source": [
    "meta = pd.read_csv(\"./outputs/2025-03-04T18:07/metadata.csv\")\n"
   ]
  },
  {
   "cell_type": "code",
   "execution_count": null,
   "id": "dfc06321-8615-48c5-b0de-22197ac5cc78",
   "metadata": {},
   "outputs": [],
   "source": [
    "import yt_dlp as youtube_dl\n",
    "\n",
    "\n",
    "def live_hook(d):\n",
    "#     print(\"\\n\\n\\n\", d.keys(), d[\"duration\"], \"\\n\\n\\n\")\n",
    "#     print(d[\"playlist\"])\n",
    "#     print(d[\"playlist_index\"])\n",
    "    \n",
    "    if d[\"duration\"] > 600:\n",
    "        return f\"duration > 600 (is {d['duration']})\"\n",
    "        \n",
    "    if d[\"is_live\"]:\n",
    "        return \"is_live\"\n",
    "    return None\n",
    "\n",
    "\n",
    "ydl_opts = {\n",
    "            'quiet': True,\n",
    "            'verbose': False,\n",
    "            \"writesubtitles\": True,\n",
    "            # \"subtitleslangs\": \"en\",\n",
    "            # \"subtitlesformat\": \"srt\",\n",
    "            \"writethumbnail\": False, #True,\n",
    "\n",
    "            \"download_archive\": \"downloaded.txt\",\n",
    "\n",
    "            \"ignoreerrors\": True,\n",
    "            \"outtmpl\": \"videos/%(id)s.%(ext)s\",\n",
    "        \n",
    "            # \"format\": \"best\",\n",
    "            \"socket_timeout\": 1,\n",
    "            \"match_filter\": live_hook\n",
    "        }\n",
    "\n",
    "with youtube_dl.YoutubeDL(ydl_opts) as ydl:\n",
    "        ydl.download(f\"https://www.youtube.com/watch?v=QMaWNQi18Zw\")\n"
   ]
  },
  {
   "cell_type": "code",
   "execution_count": null,
   "id": "6266808a-d7d8-4323-9e2d-da326cb555da",
   "metadata": {},
   "outputs": [],
   "source": [
    "import pandas as pd\n",
    "from glob import glob\n",
    "\n",
    "lawki_dir = \"./outputs/test2/\"\n",
    "\n",
    "meta = pd.read_csv(f\"{lawki_dir}/metadata.csv\", lineterminator=\"\\n\").set_index(\"link\")\n",
    "with open(f\"{lawki_dir}/downloaded.txt\") as handle:\n",
    "    dwnld = [l.split()[1] for l in handle.readlines()]\n",
    "vids = glob(f\"{lawki_dir}/videos/*\")\n",
    "\n",
    "meta2 = meta.loc[dwnld]\n",
    "\n",
    "\n",
    "meta2.index, meta.index\n",
    "[l for l in meta.index if any(l in f for f in vids)] \n",
    "\n",
    "meta.to_csv"
   ]
  },
  {
   "cell_type": "code",
   "execution_count": null,
   "id": "d95a489d-7f5e-42ae-82c7-ab18216984d4",
   "metadata": {},
   "outputs": [],
   "source": [
    "[l.replace(\".txt\", \"\") for l in \n",
    "\"ar.txt  bn.txt  de.txt  en.txt  es.txt  fr.txt  hi.txt  id.txt  jp.txt  original.txt  pt.txt  ru.txt  ur.txt  zh-tw.txt\".split()\n",
    "]\n",
    "\n",
    "langs = 'ar','de','es','fr','hi','id','ja','pt','ru','ur','zh-CN'\n",
    "\n",
    "len(langs)\n",
    "\n",
    "12*7"
   ]
  },
  {
   "cell_type": "code",
   "execution_count": null,
   "id": "4d16ecd1-d6d9-45b5-a68e-bb7d71719766",
   "metadata": {},
   "outputs": [],
   "source": [
    "import pandas as pd\n",
    "\n",
    "pd.read_csv(\"outputs/full_test/terms.csv\").shape"
   ]
  },
  {
   "cell_type": "markdown",
   "id": "ad1bd434-7043-4d7d-82ae-b7be3f44ba56",
   "metadata": {},
   "source": [
    "parameters:\n",
    " - 12 langs\n",
    " - 7 terms\n",
    " - 5 links\n",
    "\n",
    "- scrape links: 14 minutes"
   ]
  },
  {
   "cell_type": "code",
   "execution_count": null,
   "id": "4d67591b-6866-4d52-bd04-8fe56f7ccbca",
   "metadata": {
    "scrolled": true
   },
   "outputs": [],
   "source": [
    "pd.read_csv(\"outputs/dry_wood/metadata.csv\").duration.hist()\n",
    "\n",
    "242/60"
   ]
  },
  {
   "cell_type": "code",
   "execution_count": null,
   "id": "8ad7d5bb-7b59-4954-819c-79da37cbbc59",
   "metadata": {},
   "outputs": [],
   "source": [
    "import pandas as pd\n",
    "from glob import glob\n",
    "\n",
    "lawki_dir = \"./outputs/c\"\n",
    "\n",
    "meta = pd.read_csv(f\"{lawki_dir}/metadata.csv\", lineterminator=\"\\n\").set_index(\"link\")\n",
    "with open(f\"{lawki_dir}/downloaded.txt\") as handle:\n",
    "    dwnld = [l.split()[1] for l in handle.readlines()]\n",
    "vids = glob(f\"{lawki_dir}/videos/*\")\n",
    "vids = pd.Series(vids).apply(lambda s: s.split(\"/\")[-1].split(\".\")[0])\n",
    "\n",
    "# meta2 = meta.loc[dwnld]\n",
    "\n",
    "len(meta.index), len(dwnld), len(vids),\\\n",
    "len(meta.index.intersection(dwnld)), len(meta.index.intersection(vids)),\\\n",
    "len(set(dwnld) & set(vids))\n"
   ]
  },
  {
   "cell_type": "markdown",
   "id": "2a1fc45b-c030-4bd1-9e56-eba03013aeaa",
   "metadata": {},
   "source": [
    "---"
   ]
  },
  {
   "cell_type": "code",
   "execution_count": null,
   "id": "bf212ce5-9079-4f2c-b94a-5a8de582409c",
   "metadata": {},
   "outputs": [],
   "source": [
    "from moviepy.editor import VideoFileClip, concatenate_videoclips\n",
    "\n",
    "v1 = VideoFileClip(\"./outputs/soft_macho/videos/0C08yBpMiCI.webm\").subclip(1, 4)\n",
    "v2 = VideoFileClip(\"./outputs/soft_macho/videos/91jaWWyjnY0.mkv\").subclip(1, 4)\n",
    "\n",
    "final = concatenate_videoclips([v1, v2], method='compose').set_fps(24)\n",
    "\n",
    "print(f\"{final.duration=}, {final.fps=}\")\n",
    "final.write_videofile(f\"test_merged3.mp4\") "
   ]
  },
  {
   "cell_type": "markdown",
   "id": "79f9a9b8-f2d5-4b90-91ff-e54859ef9a1b",
   "metadata": {},
   "source": [
    "---"
   ]
  },
  {
   "cell_type": "code",
   "execution_count": 1,
   "id": "42a1baef-2de1-4a9c-bb71-883e8de76e82",
   "metadata": {},
   "outputs": [
    {
     "name": "stdout",
     "output_type": "stream",
     "text": [
      "n_neighbours=4\n",
      "steps.duration.sum()=29.7\n"
     ]
    }
   ],
   "source": [
    "from parameters import *\n",
    "from rw import NeighbourRW\n",
    "from glob import glob\n",
    "from moviepy.editor import VideoFileClip, concatenate_videoclips\n",
    "import pandas as pd\n",
    "\n",
    "\n",
    "def file_from_link(files, link):\n",
    "    matches = [f for f in files if link in f]\n",
    "    if not matches:\n",
    "        return None\n",
    "        # raise ValueError(f\"{link} not in {files}!\")\n",
    "    return matches[0]\n",
    "\n",
    "lawki_dir = \"./outputs/redstar\"\n",
    "\n",
    "meta = pd.read_csv(f\"{lawki_dir}/metadata.csv\").set_index(\"link\")\n",
    "space = pd.read_csv(f\"{lawki_dir}/embeddings_paraphrase-multilingual-mpnet-base-v2.csv\").set_index(\"link\")\n",
    "space = space.loc[meta.index].values\n",
    "\n",
    "\n",
    "rw = NeighbourRW(n_neighbours=2, space=space, meta=meta)\n",
    "\n",
    "steps = []\n",
    "for _ in range(3):\n",
    "    try:\n",
    "        i, cur_row, (start, duration) = rw.step(0)\n",
    "        steps.append([cur_row.name, start, duration])\n",
    "    except ValueError:\n",
    "        print(\"DONE!\")\n",
    "        break\n",
    "\n",
    "steps = pd.DataFrame(steps, columns=[\"link\", \"start\", \"duration\"])\n",
    "\n",
    "print(f\"{steps.duration.sum()=}\", flush=True)\n"
   ]
  },
  {
   "cell_type": "code",
   "execution_count": 2,
   "id": "f26147e3-b8cc-4887-9124-f18f724af812",
   "metadata": {},
   "outputs": [
    {
     "data": {
      "text/plain": [
       "[('./outputs/redstar/videos/YM_x4E7vTbo.webm', 6.6, 10.41),\n",
       " ('./outputs/redstar/videos/8R1BIIfx8V8.webm', 12.9, 9.77),\n",
       " ('./outputs/redstar/videos/PSh-rU2mh6k.webm', 15.3, 9.52)]"
      ]
     },
     "execution_count": 2,
     "metadata": {},
     "output_type": "execute_result"
    }
   ],
   "source": [
    "video_files = glob(f\"{lawki_dir}/videos/*\")\n",
    "\n",
    "clips = [(file_from_link(video_files, l), s, d)\n",
    "            for i, (l, s, d) in steps.iterrows()]\n",
    "# clips = [VideoFileClip(l).subclip(s, s+d)\n",
    "             # for l, s, d in clips if l]\n",
    "\n",
    "clips"
   ]
  },
  {
   "cell_type": "code",
   "execution_count": 3,
   "id": "888fc282-ac9d-44fb-b06e-fc277ec0e212",
   "metadata": {},
   "outputs": [],
   "source": [
    "vs = [VideoFileClip(l) for l, s, d in clips if l]"
   ]
  },
  {
   "cell_type": "code",
   "execution_count": 4,
   "id": "ed2a117b-8066-4056-bad8-aa2706cf8791",
   "metadata": {},
   "outputs": [
    {
     "data": {
      "text/plain": [
       "([22.57, 44.03, 52.03],\n",
       " link\n",
       " YM_x4E7vTbo    23.0\n",
       " 8R1BIIfx8V8    44.0\n",
       " PSh-rU2mh6k    52.0\n",
       " Name: duration, dtype: float64)"
      ]
     },
     "execution_count": 4,
     "metadata": {},
     "output_type": "execute_result"
    }
   ],
   "source": [
    "[v.duration for v in vs], meta.loc[steps.link].duration"
   ]
  },
  {
   "cell_type": "code",
   "execution_count": 5,
   "id": "11410c79-d924-4481-9561-1f1db88f0b90",
   "metadata": {},
   "outputs": [],
   "source": [
    "concat = concatenate_videoclips(\n",
    "    [v.subclip(s, s+d) for v, (l, s, d) in zip(vs, clips)]\n",
    ", method='compose')"
   ]
  },
  {
   "cell_type": "code",
   "execution_count": 6,
   "id": "e416fed8-47cb-4ab9-bb94-ecdfd2a8d375",
   "metadata": {
    "scrolled": true
   },
   "outputs": [
    {
     "name": "stdout",
     "output_type": "stream",
     "text": [
      "Moviepy - Building video test.mp4.\n",
      "MoviePy - Writing audio in testTEMP_MPY_wvf_snd.mp3\n"
     ]
    },
    {
     "name": "stderr",
     "output_type": "stream",
     "text": [
      "                                                                            \r"
     ]
    },
    {
     "name": "stdout",
     "output_type": "stream",
     "text": [
      "MoviePy - Done.\n",
      "Moviepy - Writing video test.mp4\n",
      "\n"
     ]
    },
    {
     "name": "stderr",
     "output_type": "stream",
     "text": [
      "                                                                            \r"
     ]
    },
    {
     "name": "stdout",
     "output_type": "stream",
     "text": [
      "Moviepy - Done !\n",
      "Moviepy - video ready test.mp4\n"
     ]
    }
   ],
   "source": [
    "concat.write_videofile(f\"test.mp4\")"
   ]
  },
  {
   "cell_type": "code",
   "execution_count": 1,
   "id": "867fb671-e2fa-4e36-a191-f125e620b8e6",
   "metadata": {},
   "outputs": [],
   "source": [
    "from src.embed import *"
   ]
  },
  {
   "cell_type": "code",
   "execution_count": 9,
   "id": "e58b1502-0499-46ca-a668-30b670d2486f",
   "metadata": {},
   "outputs": [
    {
     "name": "stdout",
     "output_type": "stream",
     "text": [
      "embedding dimensionality = 768\n"
     ]
    }
   ],
   "source": [
    "meta = pd.read_csv(f\"outputs/test/metadata.csv\", lineterminator=\"\\n\")#.iloc[:300]\n",
    "    \n",
    "dim = next(model.parameters()).shape[1]\n",
    "print(f\"embedding dimensionality = {dim}\")\n",
    "chunk_size = min(len(meta), 7)\n",
    "    \n",
    "embs = np.zeros((meta.shape[0], dim))\n",
    "cur_ind = 0\n",
    "# # for i, txt in tqdm(enumerate(meta.pretty_text), total=meta.shape[0]):\n",
    "chunks = np.array_split(list(meta.pretty_text), int(len(meta)/chunk_size))\n",
    "# # for txts in tqdm(chunks, total=len(chunks)):\n"
   ]
  },
  {
   "cell_type": "code",
   "execution_count": 10,
   "id": "6067f038-7bd3-4a49-9438-cfccc9706f11",
   "metadata": {
    "scrolled": true
   },
   "outputs": [
    {
     "data": {
      "text/plain": [
       "[array(['Title: أقوى منشط جذور طبيعي 100% وعن تجربة @youtubecreators #YuoTubeHighFive\\n\\nChannel: بالمختصر المفيد - مسعد نصار\\n\\nDescription: يتناول المقطع كيفية تحضير محلول يعتبر من أقوي المحاليل الطبيعية المنشطة لنمو الجذور والشعيرات الجذرية من مكونات طبيعية ١٠٠% .\\nمكوناته : عشبة العرقسوس والشوفان وجل صبار الالوفيرا .\\n---------\\nمع توضيح ما يحويه من عناصر وهرمونات نمو ومواد طبيعية فعالة قابلة للامتصاص .\\nويتناول تجربة حقيقية فعلية لهذا المحلول وكيفية إعداده واستخدامه ونتيجته حتى تتحقق المصداقية والشفافية\\n#بالمختصر_المفيد\\n#مسعد_نصار \\n#الزراعة_المنزلية \\n#الزراعة_العضوية\\n#اكسبلور \\n#هرمونات _تجذير\\n#منشط_جذور\\n#تجذير_الشتلات\\n#تسميد\\n#نباتات \\n#زراعة \\n#زراعة_الاسطح \\n\\n#farming \\n#gardening \\n #farm\\n#explore\\n#plants \\n#fertilization\\n#roof_cultivation\\n#organic_fertilizer\\n#home_farming\\n#root_stimulant\\n#rooting_hormone\\n #YuoTubeHighFive\\n\\n',\n",
       "        'Title: تعفن الجذور ماله علاقة بكمية الري؟؟\\n\\nChannel: Ola Bawarshi - علا بوارشي\\n\\nDescription: كمية المي يلي بنسقيها لنباتاتنا مالها علاقة بتعفن جذور النبات\\nمن الاخطاء الشائعة ري النبات كمية كتير قليلة غفوا من تعفن الجذور بس هي الطريقة مؤذية للنبتة\\nيجب ري النبات كمية كبيرة من المي حتى خروج الماء الزائد من ثقوب التصريف\\nكملخص؛ يجب ري النباتات كميات كبيرة على فترات متباعدة\\n\\n#العناية_بالنباتات #نباتات_الزينة #نباتات_داخلية\\n\\n',\n",
       "        'Title: Extreme Repair   Radical Skincare\\n\\nChannel: The Modern Man\\n\\nDescription: The Modern Man\\n\\nYou can find more Uppercut Deluxe products here:\\nhttps://www.themodernman.co.uk/brands/radical-skincare.html\\n\\nFOLLOW US ON INSTAGRAM: https://www.instagram.com/themodernmanuk/\\n\\nFOLLOW US ON FACEBOOK: https://en-gb.facebook.com/themodernmanuk/\\n\\nFOLLOW US ON TWITTER: https://twitter.com/TheModernManUK\\n\\n',\n",
       "        'Title: メンタルケアの重要性【海外の衝撃的な映像】\\n\\nChannel: ライトなショート【事件 事故 安全】\\n\\nDescription: この動画はメンタルケアの重要性を広く伝えるために作成したものです。\\n\\n',\n",
       "        'Title: 海外のストレス発散方法が狂気的すぎる #雑学 #ストレス発散 #ホラー\\n\\nChannel: ウロコ抱き\\n\\nDescription: \\n\\n',\n",
       "        'Title: 人的一生必經辱華? 中國疫情升溫反撲 藥局.接種站人潮滿滿 醫院防疫插圖挨轟辱華\"疑暗指習近平\"│記者 黃瓊慧│【國際局勢】20221219│三立iNEWS\\n\\nChannel: 三立iNEWS\\n\\nDescription: ➲ iNEWS 最正新聞直播 https://youtu.be/CKjSm5ZeehE\\n➲ 鄭知道了新頻道 快訂閱 https://reurl.cc/Mje4v\\n➲王志郁+ 國際.理財全掌握 https://reurl.cc/RdWrkz\\n➲追蹤鄭知道了粉絲團：http://bit.ly/2T9S5nB\\n➲ 推特 https://goo.gl/rT13Pd\\n#三立iNEWS #大世界 #鄭知道了\\n\\n'],\n",
       "       dtype='<U820')]"
      ]
     },
     "execution_count": 10,
     "metadata": {},
     "output_type": "execute_result"
    }
   ],
   "source": [
    "chunks"
   ]
  },
  {
   "cell_type": "markdown",
   "id": "97c7ec15-70bf-466a-b63b-73893d83283d",
   "metadata": {},
   "source": [
    "---\n",
    "\n",
    "# making sure files are small"
   ]
  },
  {
   "cell_type": "code",
   "execution_count": null,
   "id": "93ce9c01-4b6a-40db-af2f-988f433aa9f4",
   "metadata": {},
   "outputs": [],
   "source": []
  }
 ],
 "metadata": {
  "kernelspec": {
   "display_name": "Python 3 (ipykernel)",
   "language": "python",
   "name": "python3"
  },
  "language_info": {
   "codemirror_mode": {
    "name": "ipython",
    "version": 3
   },
   "file_extension": ".py",
   "mimetype": "text/x-python",
   "name": "python",
   "nbconvert_exporter": "python",
   "pygments_lexer": "ipython3",
   "version": "3.13.5"
  }
 },
 "nbformat": 4,
 "nbformat_minor": 5
}
