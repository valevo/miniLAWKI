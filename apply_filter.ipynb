{
 "cells": [
  {
   "cell_type": "code",
   "execution_count": 1,
   "id": "833aa2b9-4af0-4012-a2ff-7d2be12cb858",
   "metadata": {},
   "outputs": [],
   "source": [
    "from tqdm import tqdm\n",
    "from glob import glob\n",
    "\n",
    "import numpy as np\n",
    "# import warnings\n",
    "# warnings.filterwarnings(\"ignore\", category=DeprecationWarning)\n",
    "# warnings.filterwarnings(\"ignore\", category=RuntimeWarning)\n",
    "\n",
    "import numpy.random as rand\n",
    "import pandas as pd\n",
    "\n",
    "import cv2\n",
    "import matplotlib.pyplot as plt\n",
    "import seaborn as sns\n",
    "import imageio\n",
    "# from itertools import cycle\n",
    "# palette = cycle(sns.color_palette())\n",
    "\n",
    "# from sklearn.manifold import TSNE\n",
    "# from sklearn.neighbors import KDTree, BallTree"
   ]
  },
  {
   "cell_type": "code",
   "execution_count": null,
   "id": "b3e7762d-0e33-404a-a801-b6cddec7c412",
   "metadata": {},
   "outputs": [],
   "source": [
    "def apply_filter_mean(frames):\n",
    "    purple = np.asarray([150, 0, 255])\n",
    "\n",
    "    n, w, h, _ = frames.shape\n",
    "    dists = np.linalg.norm(\n",
    "        (frames - frames.mean((0, 1, 2))).reshape((-1, 3)), # \n",
    "        axis=(-1)).reshape((n, w, h))\n",
    "    \n",
    "    mask = dists < 25\n",
    "    frames[mask] = purple\n",
    "    return frames\n",
    "\n"
   ]
  },
  {
   "cell_type": "code",
   "execution_count": null,
   "id": "8b0e3c83-ad3c-491a-8b82-809bf56618c3",
   "metadata": {},
   "outputs": [],
   "source": [
    "cap = cv2.VideoCapture(filename)#, cv2.COLOR_BGR2RGB)\n",
    "n_frames = int(cap.get(cv2.CAP_PROP_FRAME_COUNT))\n",
    "\n",
    "#Wadsworth constant    \n",
    "# frame_rng = n_frames//3, n_frames - (n_frames//3)\n",
    "# start = rand.uniform(*frame_rng)\n",
    "# l = int(rand.uniform(3, 6)*fps)\n",
    "\n",
    "    # cap.set(cv2.CAP_PROP_FRAME_COUNT, start)\n",
    "frames = []\n",
    "for i in range(l):\n",
    "        res, frame = cap.read()\n",
    "        frames.append(frame)\n",
    "\n",
    "    if len(np.asarray(frames).shape) < 4:\n",
    "        print(f\"FILE {filename} COULDN'T BE PARSED RIGHT!\")\n",
    "        return None\n",
    "    frames = np.asarray(frames)[:, :, :, ::-1]\n",
    "    return frames\n",
    "\n",
    "\n",
    "\n",
    "cap = cv2.VideoCapture(filename)#, cv2.COLOR_BGR2RGB)\n",
    "width = vcap.get(cv2.CAP_PROP_FRAME_WIDTH )\n",
    "height = vcap.get(cv2.CAP_PROP_FRAME_HEIGHT )\n",
    "fps =  vcap.get(cv2.CAP_PROP_FPS)\n",
    "\n",
    "fourcc = cv2.VideoWriter_fourcc(*'MP4V')\n",
    "out = cv2.VideoWriter('test.mp4', fourcc, fps, (width, height))\n",
    "\n",
    "while(True):\n",
    "    frames = []\n",
    "    for i in range(100):\n",
    "    ret, frame = cap.read()\n",
    "    frames.append(frame)\n",
    "    out.write(frame)\n",
    "    cv2.imshow('frame', frame)\n",
    "    # c = cv2.waitKey(1)\n",
    "    # if c & 0xFF == ord('q'):\n",
    "    #     break\n",
    "\n",
    "cap.release()\n",
    "out.release()\n",
    "cv2.destroyAllWindows()"
   ]
  },
  {
   "cell_type": "code",
   "execution_count": 3,
   "id": "3abbe1a7-b1e9-4850-9acf-5d4f4a889f6d",
   "metadata": {},
   "outputs": [],
   "source": [
    "import os\n",
    "from glob import glob\n",
    "\n"
   ]
  }
 ],
 "metadata": {
  "kernelspec": {
   "display_name": "Python 3 (ipykernel)",
   "language": "python",
   "name": "python3"
  },
  "language_info": {
   "codemirror_mode": {
    "name": "ipython",
    "version": 3
   },
   "file_extension": ".py",
   "mimetype": "text/x-python",
   "name": "python",
   "nbconvert_exporter": "python",
   "pygments_lexer": "ipython3",
   "version": "3.12.7"
  }
 },
 "nbformat": 4,
 "nbformat_minor": 5
}
